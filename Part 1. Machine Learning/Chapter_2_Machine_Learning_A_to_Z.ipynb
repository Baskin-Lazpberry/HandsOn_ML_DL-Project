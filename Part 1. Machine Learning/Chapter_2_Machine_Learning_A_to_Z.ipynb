{
  "cells": [
    {
      "cell_type": "code",
      "execution_count": null,
      "metadata": {
        "id": "ZcKo30mtZsIT"
      },
      "outputs": [],
      "source": [
        "import os\n",
        "import tarfile\n",
        "import urllib.request\n",
        "\n",
        "DOWNLOAD_ROOT = \"https://raw.githubusercontent.com/ageron/handson-ml2/master/\"\n",
        "HOUSING_PATH = os.path.join(\"datasets\", \"housing\")\n",
        "HOUSING_URL = DOWNLOAD_ROOT + \"datasets/housing/housing.tgz\"\n",
        "\n",
        "def fetch_housing_data(housing_url = HOUSING_URL, housing_path = HOUSING_PATH):\n",
        "  os.makedirs(housing_path, exist_ok = True)\n",
        "  tgz_path = os.path.join(housing_path, \"housing.tgz\")\n",
        "  urllib.request.urlretrieve(housing_url, tgz_path)\n",
        "  housing_tgz = tarfile.open(tgz_path)\n",
        "  housing_tgz.extractall(path=housing_path)\n",
        "  housing_tgz.close()"
      ]
    },
    {
      "cell_type": "code",
      "execution_count": null,
      "metadata": {
        "id": "klN2s8Zfbh0Q"
      },
      "outputs": [],
      "source": [
        "import pandas as pd\n",
        "\n",
        "def load_housing_data(housing_path = HOUSING_PATH):\n",
        "  csv_path = os.path.join(housing_path, \"housing.csv\")\n",
        "  return pd.read_csv(csv_path)"
      ]
    },
    {
      "cell_type": "code",
      "execution_count": null,
      "metadata": {
        "colab": {
          "base_uri": "https://localhost:8080/",
          "height": 206
        },
        "id": "bevdU20_cHTh",
        "outputId": "d7e814b0-f048-49eb-8a7d-c3d55903e74f"
      },
      "outputs": [],
      "source": [
        "fetch_housing_data()\n",
        "housing = load_housing_data()\n",
        "housing.head()"
      ]
    },
    {
      "cell_type": "code",
      "execution_count": null,
      "metadata": {
        "colab": {
          "base_uri": "https://localhost:8080/"
        },
        "id": "H-jToNcGcblB",
        "outputId": "5e82d4fc-8c5f-4f3d-ba25-a5f8c7959098"
      },
      "outputs": [],
      "source": [
        "housing.info()"
      ]
    },
    {
      "cell_type": "code",
      "execution_count": null,
      "metadata": {
        "colab": {
          "base_uri": "https://localhost:8080/"
        },
        "id": "qiEAUGuTc9IY",
        "outputId": "3d4b1c51-d3e5-4e07-da65-6bb939230afa"
      },
      "outputs": [],
      "source": [
        "housing[\"ocean_proximity\"].value_counts()"
      ]
    },
    {
      "cell_type": "code",
      "execution_count": null,
      "metadata": {
        "colab": {
          "base_uri": "https://localhost:8080/",
          "height": 300
        },
        "id": "MKCMEFV9djQU",
        "outputId": "13af3043-8316-405d-ccd6-f9f1b2597c58"
      },
      "outputs": [],
      "source": [
        "housing.describe()"
      ]
    },
    {
      "cell_type": "code",
      "execution_count": null,
      "metadata": {
        "colab": {
          "base_uri": "https://localhost:8080/",
          "height": 879
        },
        "id": "kBTiQ32gdkqK",
        "outputId": "f77a2a78-2c2f-4183-b46b-08dfafc614ab"
      },
      "outputs": [],
      "source": [
        "%matplotlib inline\n",
        "import matplotlib.pyplot as plt\n",
        "housing.hist(bins=50, figsize=(20,15))\n",
        "plt.show()"
      ]
    },
    {
      "cell_type": "code",
      "execution_count": null,
      "metadata": {
        "id": "PUJsPnIFfgCK"
      },
      "outputs": [],
      "source": [
        "import numpy as np\n",
        "\n",
        "def split_train_test(data, test_ratio):\n",
        "  shuffled_indices = np.random.permutation(len(data))\n",
        "  test_set_size = int(len(data) * test_ratio)\n",
        "  test_indices = shuffled_indices[:test_set_size]\n",
        "  train_indices = shuffled_indices[test_set_size:]\n",
        "  return data.iloc[train_indices], data.iloc[test_indices]"
      ]
    },
    {
      "cell_type": "code",
      "execution_count": null,
      "metadata": {
        "id": "j1bzxZwffkAA"
      },
      "outputs": [],
      "source": [
        "train_set, test_set = split_train_test(housing, 0.2)"
      ]
    },
    {
      "cell_type": "code",
      "execution_count": null,
      "metadata": {
        "colab": {
          "base_uri": "https://localhost:8080/"
        },
        "id": "KUrbupLVPWN6",
        "outputId": "2d74d0f0-b1a4-4900-c274-9b47f3abcc5c"
      },
      "outputs": [],
      "source": [
        "len(train_set)"
      ]
    },
    {
      "cell_type": "code",
      "execution_count": null,
      "metadata": {
        "colab": {
          "base_uri": "https://localhost:8080/"
        },
        "id": "EeB9EN1bPcFG",
        "outputId": "db511107-2756-4afb-bf45-c025314a9b43"
      },
      "outputs": [],
      "source": [
        "len(test_set)"
      ]
    },
    {
      "cell_type": "code",
      "execution_count": null,
      "metadata": {
        "id": "4AHgNwdWRpAW"
      },
      "outputs": [],
      "source": [
        "from zlib import crc32\n",
        "\n",
        "def test_set_check(identifier, test_ratio):\n",
        "  return crc32(np.int64(identifier)) & 0xffffffff < test_ratio * 2 ** 32\n",
        "\n",
        "def split_train_test_by_id(data, test_ratio, id_column):\n",
        "  ids = data[id_column]\n",
        "  in_test_set = ids.apply(lambda id_: test_set_check(id_, test_ratio))\n",
        "  return data.loc[~in_test_set], data.loc[in_test_set]"
      ]
    },
    {
      "cell_type": "code",
      "execution_count": null,
      "metadata": {
        "id": "9XDW9orRSUQr"
      },
      "outputs": [],
      "source": [
        "housing_with_id = housing.reset_index()\n",
        "\n",
        "train_set, test_set = split_train_test_by_id(housing_with_id, 0.2, \"index\")"
      ]
    },
    {
      "cell_type": "code",
      "execution_count": null,
      "metadata": {
        "id": "1bxtlVsnSgr0"
      },
      "outputs": [],
      "source": [
        "housing_with_id[\"id\"] = housing[\"longitude\"] * 1000 + housing[\"latitude\"]\n",
        "train_set, test_set = split_train_test_by_id(housing_with_id, 0.2, \"id\")"
      ]
    },
    {
      "cell_type": "code",
      "execution_count": null,
      "metadata": {
        "id": "Nwgj2siOStWB"
      },
      "outputs": [],
      "source": [
        "from sklearn.model_selection import train_test_split\n",
        "\n",
        "train_set, test_set = train_test_split(housing, test_size = 0.2, random_state = 42)"
      ]
    },
    {
      "cell_type": "code",
      "execution_count": null,
      "metadata": {
        "id": "7l5-znw3TzY3"
      },
      "outputs": [],
      "source": [
        "housing[\"income_cat\"] = pd.cut(housing[\"median_income\"],\n",
        "                               bins=[0., 1.5, 3.0, 4.5, 6.0, np.inf],\n",
        "                               labels=[1, 2, 3, 4, 5])"
      ]
    },
    {
      "cell_type": "code",
      "execution_count": null,
      "metadata": {
        "colab": {
          "base_uri": "https://localhost:8080/",
          "height": 283
        },
        "id": "Dl_p-rzaUEMC",
        "outputId": "e2c609dc-01de-447d-df42-4c515eb3aa9a"
      },
      "outputs": [],
      "source": [
        "housing[\"income_cat\"].hist()"
      ]
    },
    {
      "cell_type": "code",
      "execution_count": null,
      "metadata": {
        "id": "d1TrnpieUHLQ"
      },
      "outputs": [],
      "source": [
        "from sklearn.model_selection import StratifiedShuffleSplit\n",
        "\n",
        "split = StratifiedShuffleSplit(n_splits=1, test_size=0.2, random_state=42)\n",
        "for train_index, test_index in split.split(housing, housing[\"income_cat\"]):\n",
        "  strat_train_set = housing.loc[train_index]\n",
        "  strat_test_set = housing.loc[test_index]"
      ]
    },
    {
      "cell_type": "code",
      "execution_count": null,
      "metadata": {
        "colab": {
          "base_uri": "https://localhost:8080/"
        },
        "id": "KUxJoLNNU0yg",
        "outputId": "f33c7e92-2ddf-463d-def0-b3a157e0b1c6"
      },
      "outputs": [],
      "source": [
        "strat_test_set[\"income_cat\"].value_counts() / len(strat_test_set)"
      ]
    },
    {
      "cell_type": "code",
      "execution_count": null,
      "metadata": {
        "colab": {
          "base_uri": "https://localhost:8080/"
        },
        "id": "Gv-AZep4W1be",
        "outputId": "ac60fa46-1a22-4f2d-fce8-28ec7b7c6426"
      },
      "outputs": [],
      "source": [
        "housing[\"income_cat\"].value_counts() / len(housing)"
      ]
    },
    {
      "cell_type": "code",
      "execution_count": null,
      "metadata": {
        "id": "uU-Q_X6pXRMH"
      },
      "outputs": [],
      "source": [
        "for set_ in (strat_train_set, strat_test_set):\n",
        "  set_.drop(\"income_cat\", axis=1, inplace=True)"
      ]
    },
    {
      "cell_type": "code",
      "execution_count": null,
      "metadata": {
        "id": "5ng2lbxsXixw"
      },
      "outputs": [],
      "source": [
        "housing = strat_train_set.copy()"
      ]
    },
    {
      "cell_type": "code",
      "execution_count": null,
      "metadata": {
        "colab": {
          "base_uri": "https://localhost:8080/",
          "height": 297
        },
        "id": "o1lLr7i6X0SS",
        "outputId": "a86d0f9c-b7bc-498c-e97a-9d822c56e3da"
      },
      "outputs": [],
      "source": [
        "housing.plot(kind=\"scatter\", x=\"longitude\", y=\"latitude\")"
      ]
    },
    {
      "cell_type": "code",
      "execution_count": null,
      "metadata": {
        "colab": {
          "base_uri": "https://localhost:8080/",
          "height": 265
        },
        "id": "dObgSbNuX7m3",
        "outputId": "0bcf10d5-172c-43ee-d2ac-9a6cdb2d0ade"
      },
      "outputs": [],
      "source": [
        "plt.scatter(housing[\"longitude\"], housing[\"latitude\"], alpha=0.1)\n",
        "plt.show()"
      ]
    },
    {
      "cell_type": "code",
      "execution_count": null,
      "metadata": {
        "colab": {
          "base_uri": "https://localhost:8080/",
          "height": 464
        },
        "id": "iUAhSiY4YrHi",
        "outputId": "e86c5e76-d4f0-4bdf-cc2b-2a5cd8b47cb0"
      },
      "outputs": [],
      "source": [
        "housing.plot(kind=\"scatter\", x=\"longitude\", y=\"latitude\", alpha=0.4,\n",
        "             s=housing[\"population\"]/100, label=\"population\", figsize=(10,7),\n",
        "             c=\"median_house_value\", cmap=plt.get_cmap(\"jet\"), colorbar=True,\n",
        "             sharex=False)\n",
        "plt.legend()"
      ]
    },
    {
      "cell_type": "code",
      "execution_count": null,
      "metadata": {
        "id": "NtZuXC1RaMbg"
      },
      "outputs": [],
      "source": [
        "corr_matrix = housing.corr()"
      ]
    },
    {
      "cell_type": "code",
      "execution_count": null,
      "metadata": {
        "colab": {
          "base_uri": "https://localhost:8080/"
        },
        "id": "rbfPCuvhaPB-",
        "outputId": "9249120b-9e5d-494e-89ce-1993173c8a38"
      },
      "outputs": [],
      "source": [
        "corr_matrix[\"median_house_value\"].sort_values(ascending=False)"
      ]
    },
    {
      "cell_type": "code",
      "execution_count": null,
      "metadata": {
        "colab": {
          "base_uri": "https://localhost:8080/",
          "height": 829
        },
        "id": "VCouH97_aUiK",
        "outputId": "fbd6484e-153e-4dbb-d077-5c3c3e385934"
      },
      "outputs": [],
      "source": [
        "from pandas.plotting import scatter_matrix\n",
        "\n",
        "attributes = [\"median_house_value\", \"median_income\", \"total_rooms\", \"housing_median_age\"]\n",
        "scatter_matrix(housing[attributes], figsize=(12,8))"
      ]
    },
    {
      "cell_type": "code",
      "execution_count": null,
      "metadata": {
        "colab": {
          "base_uri": "https://localhost:8080/",
          "height": 298
        },
        "id": "icmAlgZabhrE",
        "outputId": "2450e469-ddb8-46eb-b502-cd88759358d2"
      },
      "outputs": [],
      "source": [
        "housing.plot(kind=\"scatter\", x=\"median_income\", y= \"median_house_value\", alpha=0.1)"
      ]
    },
    {
      "cell_type": "code",
      "execution_count": null,
      "metadata": {
        "id": "x2u3vBu1b_-B"
      },
      "outputs": [],
      "source": [
        "housing[\"rooms_per_household\"] = housing[\"total_rooms\"]/housing[\"households\"]\n",
        "housing[\"bedrooms_per_room\"] = housing[\"total_bedrooms\"]/housing[\"total_rooms\"]\n",
        "housing[\"population_per_household\"] = housing[\"population\"]/housing[\"households\"]"
      ]
    },
    {
      "cell_type": "code",
      "execution_count": null,
      "metadata": {
        "id": "VD19AR9vO1FY"
      },
      "outputs": [],
      "source": [
        "corr_matrix = housing.corr()"
      ]
    },
    {
      "cell_type": "code",
      "execution_count": null,
      "metadata": {
        "colab": {
          "base_uri": "https://localhost:8080/"
        },
        "id": "Yu3-3kYcO3TC",
        "outputId": "b5d406a7-736c-4db4-978a-1ad27aedc088"
      },
      "outputs": [],
      "source": [
        "corr_matrix[\"median_house_value\"].sort_values(ascending=False)"
      ]
    },
    {
      "cell_type": "code",
      "execution_count": null,
      "metadata": {
        "id": "1MI-n7p-O82f"
      },
      "outputs": [],
      "source": [
        "housing = strat_train_set.drop(\"median_house_value\", axis = 1)\n",
        "housing_labels = strat_train_set[\"median_house_value\"].copy()"
      ]
    },
    {
      "cell_type": "code",
      "execution_count": null,
      "metadata": {
        "id": "6GHT5wcRPoku"
      },
      "outputs": [],
      "source": [
        "from sklearn.impute import SimpleImputer\n",
        "\n",
        "imputer = SimpleImputer(strategy=\"median\")"
      ]
    },
    {
      "cell_type": "code",
      "execution_count": null,
      "metadata": {
        "id": "loI9ObcsQR4i"
      },
      "outputs": [],
      "source": [
        "housing_num = housing.drop(\"ocean_proximity\", axis=1)"
      ]
    },
    {
      "cell_type": "code",
      "execution_count": null,
      "metadata": {
        "colab": {
          "base_uri": "https://localhost:8080/"
        },
        "id": "Fyv75Tc5QYFa",
        "outputId": "189e3cac-705a-4a3b-b30f-7c2fce5e82c8"
      },
      "outputs": [],
      "source": [
        "imputer.fit(housing_num)"
      ]
    },
    {
      "cell_type": "code",
      "execution_count": null,
      "metadata": {
        "colab": {
          "base_uri": "https://localhost:8080/"
        },
        "id": "onmJHqQIQatA",
        "outputId": "7637d497-ca69-4081-b6a0-2e8e2317999c"
      },
      "outputs": [],
      "source": [
        "imputer.statistics_"
      ]
    },
    {
      "cell_type": "code",
      "execution_count": null,
      "metadata": {
        "id": "K7ObLIg3Qgcy"
      },
      "outputs": [],
      "source": [
        "X = imputer.transform(housing_num)"
      ]
    },
    {
      "cell_type": "code",
      "execution_count": null,
      "metadata": {
        "id": "uRGLHOLmQuBk"
      },
      "outputs": [],
      "source": [
        "housing_tr = pd.DataFrame(X, columns=housing_num.columns, index=housing_num.index)"
      ]
    },
    {
      "cell_type": "code",
      "execution_count": null,
      "metadata": {
        "id": "Iy34uc3LQ6An"
      },
      "outputs": [],
      "source": [
        "housing_cat = housing[[\"ocean_proximity\"]]"
      ]
    },
    {
      "cell_type": "code",
      "execution_count": null,
      "metadata": {
        "colab": {
          "base_uri": "https://localhost:8080/",
          "height": 363
        },
        "id": "aQETRQ_5SAR5",
        "outputId": "cc8b554a-7bfd-4ea9-c19b-095ce40fda8e"
      },
      "outputs": [],
      "source": [
        "housing_cat.head(10)"
      ]
    },
    {
      "cell_type": "code",
      "execution_count": null,
      "metadata": {
        "id": "i2rlm9s3SCGS"
      },
      "outputs": [],
      "source": [
        "from sklearn.preprocessing import OrdinalEncoder\n",
        "oe = OrdinalEncoder()\n",
        "housing_cat_encoded = oe.fit_transform(housing_cat)"
      ]
    },
    {
      "cell_type": "code",
      "execution_count": null,
      "metadata": {
        "colab": {
          "base_uri": "https://localhost:8080/"
        },
        "id": "Q1pQ3FpLSj58",
        "outputId": "2229d039-be6e-4dd5-b80a-de7a2492da8c"
      },
      "outputs": [],
      "source": [
        "housing_cat_encoded[:10]"
      ]
    },
    {
      "cell_type": "code",
      "execution_count": null,
      "metadata": {
        "colab": {
          "base_uri": "https://localhost:8080/"
        },
        "id": "4UMcPNg1SmHJ",
        "outputId": "e5aa2619-1dd2-4f1f-b982-55f56747d968"
      },
      "outputs": [],
      "source": [
        "oe.categories_"
      ]
    },
    {
      "cell_type": "code",
      "execution_count": null,
      "metadata": {
        "colab": {
          "base_uri": "https://localhost:8080/"
        },
        "id": "FMtNOO6lStNq",
        "outputId": "cc742a4a-115a-4209-e122-6430348307ba"
      },
      "outputs": [],
      "source": [
        "from sklearn.preprocessing import OneHotEncoder\n",
        "ohe = OneHotEncoder()\n",
        "housing_cat_1hot = ohe.fit_transform(housing_cat)\n",
        "housing_cat_1hot"
      ]
    },
    {
      "cell_type": "code",
      "execution_count": null,
      "metadata": {
        "colab": {
          "base_uri": "https://localhost:8080/"
        },
        "id": "fBmYIYF8TiZi",
        "outputId": "e3c9c7c5-154a-4701-d4de-5f6645c4496b"
      },
      "outputs": [],
      "source": [
        "housing_cat_1hot.toarray()"
      ]
    },
    {
      "cell_type": "code",
      "execution_count": null,
      "metadata": {
        "colab": {
          "base_uri": "https://localhost:8080/"
        },
        "id": "7Kns_ODvTwj_",
        "outputId": "78ed44ee-cdf8-4b8f-fc8f-e03fe6d8a084"
      },
      "outputs": [],
      "source": [
        "ohe.categories_"
      ]
    },
    {
      "cell_type": "code",
      "execution_count": null,
      "metadata": {
        "id": "iCoZOYt0T11t"
      },
      "outputs": [],
      "source": [
        "from sklearn.base import BaseEstimator, TransformerMixin\n",
        "\n",
        "rooms_ix, bedrooms_ix, population_ix, households_ix = 3, 4, 5, 6\n",
        "\n",
        "class CombinedAttributesAdder(BaseEstimator, TransformerMixin):\n",
        "  def __init__(self, add_bedrooms_per_room = True):\n",
        "    self.add_bedrooms_per_room = add_bedrooms_per_room\n",
        "  def fit(self, X, y=None):\n",
        "    return self\n",
        "  def transform(self, X):\n",
        "    rooms_per_household = X[:, rooms_ix] / X[:, households_ix]\n",
        "    population_per_household = X[:, population_ix] / X[:, households_ix]\n",
        "\n",
        "    if self.add_bedrooms_per_room:\n",
        "      bedrooms_per_room = X[:, bedrooms_ix] / X[:, rooms_ix]\n",
        "      return np.c_[X, rooms_per_household, population_per_household, bedrooms_per_room]\n",
        "    else:\n",
        "      return np.c_[X, rooms_per_household, population_per_household]\n",
        "\n",
        "caa = CombinedAttributesAdder(add_bedrooms_per_room=False)\n",
        "housing_extra_attribs = caa.transform(housing.values)"
      ]
    },
    {
      "cell_type": "code",
      "execution_count": null,
      "metadata": {
        "id": "EnoY7W4EXIJm"
      },
      "outputs": [],
      "source": [
        "from sklearn.pipeline import Pipeline\n",
        "from sklearn.preprocessing import StandardScaler\n",
        "\n",
        "num_pipeline = Pipeline([\n",
        "                         ('imputer', SimpleImputer(strategy=\"median\")),\n",
        "                         ('attribs_adder', CombinedAttributesAdder()),\n",
        "                         ('std_scaler', StandardScaler()),\n",
        "])\n",
        "\n",
        "housing_num_tr = num_pipeline.fit_transform(housing_num)"
      ]
    },
    {
      "cell_type": "code",
      "execution_count": null,
      "metadata": {
        "id": "fByO2F-TYVrI"
      },
      "outputs": [],
      "source": [
        "from sklearn.compose import ColumnTransformer\n",
        "\n",
        "num_attribs = list(housing_num)\n",
        "cat_attribs = [\"ocean_proximity\"]\n",
        "\n",
        "full_pipeline = ColumnTransformer([\n",
        "                (\"num\", num_pipeline, num_attribs),\n",
        "                (\"cat\", OneHotEncoder(), cat_attribs),\n",
        "])\n",
        "\n",
        "housing_prepared = full_pipeline.fit_transform(housing)"
      ]
    },
    {
      "cell_type": "code",
      "execution_count": null,
      "metadata": {
        "colab": {
          "base_uri": "https://localhost:8080/"
        },
        "id": "v86dGK-_Z6MZ",
        "outputId": "396d649c-ad04-405d-aa55-ff9e413ec7c2"
      },
      "outputs": [],
      "source": [
        "from sklearn.linear_model import LinearRegression\n",
        "\n",
        "lr = LinearRegression()\n",
        "lr.fit(housing_prepared, housing_labels)"
      ]
    },
    {
      "cell_type": "code",
      "execution_count": null,
      "metadata": {
        "id": "kvtapnqBazap"
      },
      "outputs": [],
      "source": [
        "some_data = housing.iloc[:5]\n",
        "some_labels = housing_labels.iloc[:5]\n",
        "some_data_prepared = full_pipeline.transform(some_data)"
      ]
    },
    {
      "cell_type": "code",
      "execution_count": null,
      "metadata": {
        "colab": {
          "base_uri": "https://localhost:8080/"
        },
        "id": "fddHtgv8a6_b",
        "outputId": "50558187-9b18-4f09-982d-47b55202a7c4"
      },
      "outputs": [],
      "source": [
        "print(\"Estimation: \", lr.predict(some_data_prepared))"
      ]
    },
    {
      "cell_type": "code",
      "execution_count": null,
      "metadata": {
        "colab": {
          "base_uri": "https://localhost:8080/"
        },
        "id": "oX-PLfc1bH-T",
        "outputId": "3b31f017-503d-44dd-dc12-aacefd50c60d"
      },
      "outputs": [],
      "source": [
        "print(\"Label: \", list(some_labels))"
      ]
    },
    {
      "cell_type": "code",
      "execution_count": null,
      "metadata": {
        "colab": {
          "base_uri": "https://localhost:8080/"
        },
        "id": "KzYFk-UmbO5F",
        "outputId": "f93fec29-ee17-4452-ee5c-a336ea2b0700"
      },
      "outputs": [],
      "source": [
        "from sklearn.metrics import mean_squared_error\n",
        "housing_predictions = lr.predict(housing_prepared)\n",
        "lr_mse = mean_squared_error(housing_labels, housing_predictions)\n",
        "lr_rmse = np.sqrt(lr_mse)\n",
        "lr_rmse"
      ]
    },
    {
      "cell_type": "code",
      "execution_count": null,
      "metadata": {
        "colab": {
          "base_uri": "https://localhost:8080/"
        },
        "id": "je-sVOCbbmev",
        "outputId": "bf7e3ada-fc88-483f-c886-762ce261576f"
      },
      "outputs": [],
      "source": [
        "from sklearn.tree import DecisionTreeRegressor\n",
        "dtr = DecisionTreeRegressor()\n",
        "dtr.fit(housing_prepared, housing_labels)"
      ]
    },
    {
      "cell_type": "code",
      "execution_count": null,
      "metadata": {
        "colab": {
          "base_uri": "https://localhost:8080/"
        },
        "id": "6Y-oZ8GIb3I_",
        "outputId": "7588c23b-e2d9-4b0b-a88c-5bde7c994e22"
      },
      "outputs": [],
      "source": [
        "housing_predictions = dtr.predict(housing_prepared)\n",
        "dtr_mse = mean_squared_error(housing_labels, housing_predictions)\n",
        "dtr_rmse = np.sqrt(dtr_mse)\n",
        "dtr_rmse"
      ]
    },
    {
      "cell_type": "code",
      "execution_count": null,
      "metadata": {
        "id": "DjCR05n4cHiB"
      },
      "outputs": [],
      "source": [
        "from sklearn.model_selection import cross_val_score\n",
        "scores = cross_val_score(dtr, housing_prepared, housing_labels,\n",
        "                        scoring=\"neg_mean_squared_error\", cv=10)\n",
        "dtr_rmse_scores = np.sqrt(-scores)"
      ]
    },
    {
      "cell_type": "code",
      "execution_count": null,
      "metadata": {
        "id": "HcOsVbdlc_LU"
      },
      "outputs": [],
      "source": [
        "def display_scores(scores):\n",
        "  print(\"Score: \", scores)\n",
        "  print(\"Average: \", scores.mean())\n",
        "  print(\"StD: \", scores.std())"
      ]
    },
    {
      "cell_type": "code",
      "execution_count": null,
      "metadata": {
        "colab": {
          "base_uri": "https://localhost:8080/"
        },
        "id": "2vLqmhqcdVeS",
        "outputId": "8236e2f7-a227-463d-a1c4-4762c335924d"
      },
      "outputs": [],
      "source": [
        "display_scores(dtr_rmse_scores)"
      ]
    },
    {
      "cell_type": "code",
      "execution_count": null,
      "metadata": {
        "id": "4XtD-1BjdYr-"
      },
      "outputs": [],
      "source": [
        "lr_scores = cross_val_score(lr, housing_prepared, housing_labels,\n",
        "                            scoring=\"neg_mean_squared_error\", cv=10)"
      ]
    },
    {
      "cell_type": "code",
      "execution_count": null,
      "metadata": {
        "colab": {
          "base_uri": "https://localhost:8080/"
        },
        "id": "gDQQ83zJdxU-",
        "outputId": "2ebaafdd-8ef0-454b-f62c-73489bfff4b8"
      },
      "outputs": [],
      "source": [
        "lr_rmse_scores = np.sqrt(-lr_scores)\n",
        "display_scores(lr_rmse_scores)"
      ]
    },
    {
      "cell_type": "code",
      "execution_count": null,
      "metadata": {
        "colab": {
          "base_uri": "https://localhost:8080/"
        },
        "id": "d15r1FBReCyl",
        "outputId": "863d6f87-a247-477d-ad1e-e31e52ae0b24"
      },
      "outputs": [],
      "source": [
        "from sklearn.ensemble import RandomForestRegressor\n",
        "rfr = RandomForestRegressor()\n",
        "rfr.fit(housing_prepared, housing_labels)"
      ]
    },
    {
      "cell_type": "code",
      "execution_count": null,
      "metadata": {
        "colab": {
          "base_uri": "https://localhost:8080/"
        },
        "id": "MUUo0QGJeVPT",
        "outputId": "cd54d45e-dd6f-4d1e-aa28-4728f92d7b3c"
      },
      "outputs": [],
      "source": [
        "housing_predictions = rfr.predict(housing_prepared)\n",
        "rfr_mse = mean_squared_error(housing_labels, housing_predictions)\n",
        "rfr_rmse = np.sqrt(rfr_mse)\n",
        "rfr_rmse"
      ]
    },
    {
      "cell_type": "code",
      "execution_count": null,
      "metadata": {
        "colab": {
          "base_uri": "https://localhost:8080/"
        },
        "id": "u-_RzGs-eoMB",
        "outputId": "bc825268-ca1d-471b-f6ec-0d430109b546"
      },
      "outputs": [],
      "source": [
        "rfr_scores = cross_val_score(rfr, housing_prepared, housing_labels,\n",
        "                             scoring=\"neg_mean_squared_error\", cv=10)\n",
        "rfr_rmse_scores = np.sqrt(-rfr_scores)\n",
        "display_scores(rfr_rmse_scores)"
      ]
    },
    {
      "cell_type": "code",
      "execution_count": null,
      "metadata": {
        "colab": {
          "base_uri": "https://localhost:8080/"
        },
        "id": "ReY7d7vrpN6O",
        "outputId": "51960b55-ae2b-4340-f841-b3212c5a6422"
      },
      "outputs": [],
      "source": [
        "from sklearn.model_selection import GridSearchCV\n",
        "\n",
        "param_grid = [\n",
        "    {'n_estimators': [3, 10, 30], 'max_features': [2, 4, 6, 8]},\n",
        "    {'bootstrap': [False], 'n_estimators': [3, 10], 'max_features': [2, 3, 4]},\n",
        "]\n",
        "\n",
        "rfr = RandomForestRegressor()\n",
        "\n",
        "gscv = GridSearchCV(rfr, param_grid, cv=5,\n",
        "                    scoring='neg_mean_squared_error',\n",
        "                    return_train_score=True)\n",
        "\n",
        "gscv.fit(housing_prepared, housing_labels)"
      ]
    },
    {
      "cell_type": "code",
      "execution_count": null,
      "metadata": {
        "colab": {
          "base_uri": "https://localhost:8080/"
        },
        "id": "wXpcmt5DqIcl",
        "outputId": "30d35b08-2de1-46dc-c3f6-68740b306f20"
      },
      "outputs": [],
      "source": [
        "gscv.best_params_"
      ]
    },
    {
      "cell_type": "code",
      "execution_count": null,
      "metadata": {
        "colab": {
          "base_uri": "https://localhost:8080/"
        },
        "id": "n0VPOuIeqjBY",
        "outputId": "58f21899-bf1e-40ee-cb40-787568791051"
      },
      "outputs": [],
      "source": [
        "gscv.best_estimator_"
      ]
    },
    {
      "cell_type": "code",
      "execution_count": null,
      "metadata": {
        "colab": {
          "base_uri": "https://localhost:8080/"
        },
        "id": "6OClotkzqk8n",
        "outputId": "b5bfe3db-1160-4ac9-8825-294e1dd58b47"
      },
      "outputs": [],
      "source": [
        "gscv_res = gscv.cv_results_\n",
        "for mean_score, params in zip(gscv_res[\"mean_test_score\"], gscv_res[\"params\"]):\n",
        "  print(np.sqrt(-mean_score), params)"
      ]
    },
    {
      "cell_type": "code",
      "execution_count": null,
      "metadata": {
        "colab": {
          "base_uri": "https://localhost:8080/"
        },
        "id": "k5jR7sC0qwos",
        "outputId": "15bf809d-0d70-433d-ff45-59c4635657db"
      },
      "outputs": [],
      "source": [
        "feature_importances = gscv.best_estimator_.feature_importances_\n",
        "feature_importances"
      ]
    },
    {
      "cell_type": "code",
      "execution_count": null,
      "metadata": {
        "colab": {
          "base_uri": "https://localhost:8080/"
        },
        "id": "fofYIiakri7m",
        "outputId": "c765d4a7-bdbd-48df-9cb3-cfe5e0c37677"
      },
      "outputs": [],
      "source": [
        "extra_attribs = ['rooms_per_hhold', 'pop_per_hhold', 'bedrooms_per_room']\n",
        "cat_encoder = full_pipeline.named_transformers_[\"cat\"]\n",
        "cat_one_hot_attribs = list(cat_encoder.categories_[0])\n",
        "attributes = num_attribs + extra_attribs + cat_one_hot_attribs\n",
        "sorted(zip(feature_importances, attributes), reverse=True)"
      ]
    },
    {
      "cell_type": "code",
      "execution_count": null,
      "metadata": {
        "colab": {
          "base_uri": "https://localhost:8080/"
        },
        "id": "YkB2A118sD6l",
        "outputId": "a26352b8-3de3-4378-d17a-4de0ac0883a0"
      },
      "outputs": [],
      "source": [
        "final_model = gscv.best_estimator_\n",
        "\n",
        "X_test = strat_test_set.drop(\"median_house_value\", axis=1)\n",
        "y_test = strat_test_set[\"median_house_value\"].copy()\n",
        "\n",
        "X_test_prepared = full_pipeline.transform(X_test)\n",
        "\n",
        "final_predictions = final_model.predict(X_test_prepared)\n",
        "\n",
        "final_mse = mean_squared_error(y_test, final_predictions)\n",
        "final_rmse = np.sqrt(final_mse)\n",
        "final_rmse"
      ]
    },
    {
      "cell_type": "code",
      "execution_count": null,
      "metadata": {
        "colab": {
          "base_uri": "https://localhost:8080/"
        },
        "id": "9UwLj-Y2syYv",
        "outputId": "715572cb-8b62-4e84-c3c2-ef26fd43f15e"
      },
      "outputs": [],
      "source": [
        "from scipy import stats\n",
        "confidence = 0.95\n",
        "squared_errors = (final_predictions - y_test) ** 2\n",
        "np.sqrt(stats.t.interval(confidence, len(squared_errors) - 1,\n",
        "                         loc=squared_errors.mean(),\n",
        "                         scale=stats.sem(squared_errors)))"
      ]
    },
    {
      "cell_type": "code",
      "execution_count": null,
      "metadata": {
        "colab": {
          "base_uri": "https://localhost:8080/"
        },
        "id": "ac54QVoKtSK8",
        "outputId": "7d50e494-c2fc-4ca8-e503-c25d249fb091"
      },
      "outputs": [],
      "source": [
        "final_model.score(X_test_prepared, y_test)"
      ]
    },
    {
      "cell_type": "code",
      "execution_count": null,
      "metadata": {
        "id": "Pk685gxluQnn"
      },
      "outputs": [],
      "source": []
    }
  ],
  "metadata": {
    "accelerator": "GPU",
    "colab": {
      "collapsed_sections": [],
      "name": "Chapter 2. Machine Learning A to Z.ipynb",
      "provenance": []
    },
    "kernelspec": {
      "display_name": "Python 3",
      "name": "python3"
    },
    "language_info": {
      "name": "python"
    }
  },
  "nbformat": 4,
  "nbformat_minor": 0
}
